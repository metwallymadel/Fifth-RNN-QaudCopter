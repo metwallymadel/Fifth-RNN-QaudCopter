{
 "cells": [
  {
   "cell_type": "code",
   "execution_count": null,
   "metadata": {},
   "outputs": [],
   "source": [
    "def get_reward(self):\n",
    "        \"\"\"Uses current pose of sim to return reward.\"\"\"\n",
    "        reward = 0\n",
    "        \n",
    "        reward -= 10*abs(self.sim.pose[2] - self.target_pos[2])**2\n",
    "        \n",
    "        distance = self.sim.pose[2] - self.target_pos[2]\n",
    "        \n",
    "        if distance >= 5:\n",
    "            reward += 10 * distance\n",
    "        else:\n",
    "            reward -= 100 * distance\n",
    "            \n",
    "        # constant reward for flying\n",
    "        reward += 100 + self.sim.v[2]\n",
    "        \n",
    "       \n",
    "        return np.tanh(reward)"
   ]
  }
 ],
 "metadata": {
  "kernelspec": {
   "display_name": "Python 3",
   "language": "python",
   "name": "python3"
  },
  "language_info": {
   "codemirror_mode": {
    "name": "ipython",
    "version": 3
   },
   "file_extension": ".py",
   "mimetype": "text/x-python",
   "name": "python",
   "nbconvert_exporter": "python",
   "pygments_lexer": "ipython3",
   "version": "3.6.3"
  }
 },
 "nbformat": 4,
 "nbformat_minor": 2
}
